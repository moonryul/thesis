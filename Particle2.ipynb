{
 "cells": [
  {
   "cell_type": "markdown",
   "metadata": {},
   "source": [
    "## Generating sounds\n",
    "Controlling frequency, amplitude, density, duration"
   ]
  },
  {
   "cell_type": "code",
   "execution_count": 1,
   "metadata": {},
   "outputs": [],
   "source": [
    "from pyo import *\n",
    "import librosa"
   ]
  },
  {
   "cell_type": "code",
   "execution_count": 2,
   "metadata": {},
   "outputs": [],
   "source": [
    "data, samplerate = librosa.load('test.mp3') #WoW-Kielokaz found on Free Music Archive"
   ]
  },
  {
   "cell_type": "code",
   "execution_count": null,
   "metadata": {},
   "outputs": [],
   "source": [
    "#starting server\n",
    "s = Server().boot()\n",
    "s.start()\n",
    "\n",
    "#soundTable\n",
    "t = DataTable(size=data.size, init=data.tolist()) #reading the array loaded from the audio file\n",
    "\n",
    "#then modifiy the next parameters to get different results\n",
    "\n",
    "#grain envelope \n",
    "#env = HannTable()\n",
    "#env = HarmTable([1,0,.33,0,.2,0,.143,0,.111]) #not a big difference w/ HannTable when grain density\n",
    "#env = ChebyTable([1,0,.33,0,.2,0,.143,0,.5, 1.2, 0.9]) #the sounds remind me of a cave\n",
    "#env = CosLogTable([(0,0), (2005,.8), (4095,1), (8192,.5)]) #sounds from the shower\n",
    "#env = CosTable([(0,0), (100,.1), (300,.25), (400,.8)])\n",
    "#env = CurveTable([(0,0),(48,.5),(296,.2),(1144,.5),(5008,.5)], 1, 50) \n",
    "#env = ExpTable([(0,0),(600,.7),(1024,.9)], exp=5, inverse=False)\n",
    "#env = LinTable([(0,0), (100,1), (325,.5), (1091,0)])\n",
    "#env = LogTable([(0,0), (4095,1), (8192,0), (12606, .6), (26350, .2)])\n",
    "#env = ParaTable()\n",
    "#env = PartialTable([(1,.3), (2.37, 0.5), (4.55, 0.3)])\n",
    "#env = SawTable(order=100)\n",
    "#env =  SincTable(freq=math.pi*6, windowed=True)\n",
    "#env = SquareTable(order=15)\n",
    "#env = WinTable(type=7)\n",
    "env = AtanTable(slope=0.9)\n",
    "\n",
    "#grain density\n",
    "dns = Randi(min=1, max=300, freq=2) #max = 224 sounds a bit messy\n",
    "\n",
    "#grain pitch\n",
    "pit = Randh(min=0.09, max=0.51, freq=10) \n",
    "\n",
    "#position in the table (range)\n",
    "pos = Sine(0.1).range(0, data.size)\n",
    "\n",
    "#duration\n",
    "dur = Randi(min=0.5, max=20, freq=5)\n",
    "\n",
    "#max deviation\n",
    "dev = 0.1\n",
    "\n",
    "#panning\n",
    "pan = Noise(0.5, 0.5)\n",
    "\n",
    "#mul multiplies each samples by its value, for filter frequency\n",
    "cf = Sine(0.7).range(75, 500)\n",
    "\n",
    "#filter frequency\n",
    "fcf = Choice(list(range(1, 200)), freq=50, mul=cf) #changing mul changes more than you think\n",
    "\n",
    "#Particle object : 20 is the q of the grain filter, 2 is the filter type\n",
    "grn = Particle2(t, env, dns, pit, pos, dur, dev, pan, fcf, 25, 1, chnls=2, mul=.2)\n",
    "\n",
    "#sound out\n",
    "grn.out()"
   ]
  },
  {
   "cell_type": "code",
   "execution_count": 12,
   "metadata": {},
   "outputs": [],
   "source": [
    "#set recording options : filename, format 0 is wav and sampletype 0 is 16 bit int\n",
    "#remember to change the name of the file not to overwrite it\n",
    "s.recordOptions(filename=\"rec35.wav\", fileformat=0, sampletype=0)\n",
    "\n",
    "#start recording\n",
    "s.recstart()"
   ]
  },
  {
   "cell_type": "code",
   "execution_count": 13,
   "metadata": {},
   "outputs": [],
   "source": [
    "s.recstop() #stop recording"
   ]
  },
  {
   "cell_type": "code",
   "execution_count": 19,
   "metadata": {},
   "outputs": [],
   "source": [
    "s.stop() #stop streaming"
   ]
  },
  {
   "cell_type": "code",
   "execution_count": null,
   "metadata": {},
   "outputs": [],
   "source": []
  }
 ],
 "metadata": {
  "kernelspec": {
   "display_name": "Python 3",
   "language": "python",
   "name": "python3"
  },
  "language_info": {
   "codemirror_mode": {
    "name": "ipython",
    "version": 3
   },
   "file_extension": ".py",
   "mimetype": "text/x-python",
   "name": "python",
   "nbconvert_exporter": "python",
   "pygments_lexer": "ipython3",
   "version": "3.7.6"
  }
 },
 "nbformat": 4,
 "nbformat_minor": 4
}
