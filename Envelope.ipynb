{
 "cells": [
  {
   "cell_type": "markdown",
   "metadata": {},
   "source": [
    "## Pyo library tests : generating sounds from nothing"
   ]
  },
  {
   "cell_type": "code",
   "execution_count": 1,
   "metadata": {},
   "outputs": [],
   "source": [
    "from pyo import *"
   ]
  },
  {
   "cell_type": "code",
   "execution_count": 3,
   "metadata": {},
   "outputs": [],
   "source": [
    "s = Server().boot()\n",
    "s.start()\n",
    "# Defines tables for the amplitude, the ratio and the modulation index.\n",
    "amp_table = CosTable([(0,0), (100,1), (1024,.5), (7000,.5), (8192,0)])\n",
    "rat_table = ExpTable([(0, .5), (1500, .5), (2000, .25), (3500, .25),\n",
    "                      (4000, 1), (5500, 1), (6000, .5), (8192, .5)])\n",
    "ind_table = LinTable([(0, 20), (512, 10), (8192, 0)])\n",
    "\n",
    "# call their graph() method. Use the \"yrange\" argument to set the minimum\n",
    "# and maximum bundaries of the graph (defaults to 0 and 1).\n",
    "amp_table.graph(title=\"Amplitude envelope\")\n",
    "rat_table.graph(title=\"Ratio envelope\")\n",
    "ind_table.graph(yrange=(0, 20), title=\"Modulation index envelope\")\n",
    "\n",
    "# Initialize the table readers (TableRead.play() must be called explicitly).\n",
    "amp = TableRead(table=amp_table, freq=1, loop=False, mul=.3)\n",
    "rat = TableRead(table=rat_table, freq=1, loop=False)\n",
    "ind = TableRead(table=ind_table, freq=1, loop=False)\n",
    "\n",
    "# Use the signals from the table readers to control an FM synthesis.\n",
    "fm = FM(carrier=[100,100], ratio=rat, index=ind, mul=amp).out()\n",
    "\n",
    "# Call the \"note\" function to generate an event.\n",
    "def note(freq=100, dur=1):\n",
    "    fm.carrier = [freq, freq*1.005]\n",
    "    amp.freq = 1.0 / dur\n",
    "    rat.freq = 1.0 / dur\n",
    "    ind.freq = 1.0 / dur\n",
    "    amp.play()\n",
    "    rat.play()\n",
    "    ind.play()\n",
    "\n",
    "# Play one note, carrier = 100 Hz, duration = 2 seconds.\n",
    "note(200, 2)"
   ]
  },
  {
   "cell_type": "code",
   "execution_count": 2,
   "metadata": {},
   "outputs": [],
   "source": [
    "s = Server().boot()\n",
    "s.start()\n",
    "#amp_table = CosTable([(0,0), (100,1), (1024,.5), (7000,.5), (8192,0)]) #good\n",
    "#amp_table = CurveTable([(-1000,0),(-148,0),(96,0),(1326,0),(6144,0)], 1, 10) #not very different from CosTable\n",
    "amp_table = ExpTable([(0,0),(4096,1),(8192,0)], exp=2, inverse=True) #gives more of a glissando feeling\n",
    "#amp_table = HannTable() #meh\n",
    "#amp_table = HarmTable([1,0,.33,0,.2,0,.143,0,.111]) #meh\n",
    "#amp_table = LinTable([(0,0), (100,1), (1000,.25), (8191,0)]) #accents\n",
    "#amp_table = LogTable([(0,0), (2096, 2), (4095,1), (8192,0)]) #glissando with cuts\n",
    "#amp_table = ParaTable() #not a lot of nuance --> weirdly brought deeper sounds ??\n",
    "#amp_table = PartialTable([(1,1), (2.37, 0.5), (6.66, 0.4), (14.55, 0.3)]).normalize() #some kind of polyphony\n",
    "#amp_table = SawTable(order=100)#.normalize() #not normalization brings more variation in amplitude which makes it interesting\n",
    "#amp_table = SincTable(freq=math.pi*10, windowed=True) #brings a less musical but more interesting sound\n",
    "#amp_table = SquareTable(order=(50))#.normalize() #order > 100 brings some kind of metronome\n",
    "#amp_table = WinTable(type=1) #1 sounds like a bumblebee, 3 is more fluid than 2, \n",
    "\n",
    "freq = Xnoise(dist=6, freq=8, x1=10, mul=0.1, add=150) #common noise distribs 6, 4 is a bit soft, 10 varies more\n",
    "#freq = RandInt(max=-10, freq=8, mul=100, add=1000) #max=-10 sounds good, too high can get uncomfortable for the ears\n",
    "#freq = Randh(100, 1000, 8)\n",
    "#freq = Randi(500, 3000, 4)\n",
    "\n",
    "dur = XnoiseDur(dist=\"expon_min\", min=[.05,0.5], max=[.9,1.5], x1=3)\n",
    "amp = TableRead(table=amp_table, freq=dur, loop=True, mul=1).play()\n",
    "\n",
    "#a = SineLoop(freq, feedback=0.01, mul=amp).out()\n",
    "#a = Blit(freq=[100, 99.7]*freq, harms=dur, mul=amp).out() #noisy\n",
    "#a = ChenLee(pitch=freq, chaos=dur, stereo=True, mul=amp, add=.5).out() #sounds like it's about to explode but very interesting\n",
    "#a = CrossFM(carrier=freq, ratio=dur, ind1=2, ind2=2, mul=amp).out() #this one is fun\n",
    "#a = FM(carrier=freq, ratio=dur, index=amp, mul=.2).out() #sounds like bells\n",
    "#a = LFO(freq=freq, sharp=1, type=6, mul=amp, add=dur).out() #6 sounds like a UFO\n",
    "#a = Lorenz(pitch=freq, mul=dur, add=amp).out() #sounds boring quickly\n",
    "#a = Phasor(freq=freq, mul=dur, add=amp).out() #nice, good variation\n",
    "#a = RCOsc(freq=freq, sharp=1, mul=dur, add=amp).out() #video game like\n",
    "a = SuperSaw(freq=freq, detune=0.4, bal=0.7, mul=dur, add=amp).out()"
   ]
  },
  {
   "cell_type": "code",
   "execution_count": 3,
   "metadata": {},
   "outputs": [],
   "source": [
    "s.stop()"
   ]
  },
  {
   "cell_type": "code",
   "execution_count": null,
   "metadata": {},
   "outputs": [],
   "source": []
  }
 ],
 "metadata": {
  "kernelspec": {
   "display_name": "Python 3",
   "language": "python",
   "name": "python3"
  },
  "language_info": {
   "codemirror_mode": {
    "name": "ipython",
    "version": 3
   },
   "file_extension": ".py",
   "mimetype": "text/x-python",
   "name": "python",
   "nbconvert_exporter": "python",
   "pygments_lexer": "ipython3",
   "version": "3.7.6"
  }
 },
 "nbformat": 4,
 "nbformat_minor": 4
}
