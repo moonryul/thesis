{
 "cells": [
  {
   "cell_type": "markdown",
   "metadata": {},
   "source": [
    "Code to make the generator's distribution (normally tf.random.normal([min, max])"
   ]
  },
  {
   "cell_type": "code",
   "execution_count": 2,
   "metadata": {},
   "outputs": [],
   "source": [
    "from pyo import *"
   ]
  },
  {
   "cell_type": "code",
   "execution_count": 3,
   "metadata": {},
   "outputs": [],
   "source": [
    "#hello world\n",
    "s = Server().boot()\n",
    "s.start()\n",
    "a = Sine(mul=0.01).out()\n",
    "time.sleep(5)\n",
    "s.stop()"
   ]
  },
  {
   "cell_type": "code",
   "execution_count": 6,
   "metadata": {},
   "outputs": [],
   "source": [
    "#load example\n",
    "example(Harmonizer)"
   ]
  },
  {
   "cell_type": "markdown",
   "metadata": {},
   "source": [
    "http://ajaxsoundstudio.com/pyodoc/api/classes/tableprocess.html?highlight=particle2#pyo.Particle2 example"
   ]
  },
  {
   "cell_type": "code",
   "execution_count": 3,
   "metadata": {},
   "outputs": [],
   "source": [
    "#see local sound file\n",
    "s = Server().boot()\n",
    "\n",
    "snd = SndTable('tree_of_voices.wav')\n",
    "snd.view(wxnoserver=True)\n"
   ]
  },
  {
   "cell_type": "code",
   "execution_count": 4,
   "metadata": {},
   "outputs": [],
   "source": [
    "# A Tuckey envelope for the grains (also known as flat-top envelope).\n",
    "env = WinTable(2)\n",
    "env.view(title=\"Grain envelope\", wxnoserver=True)"
   ]
  },
  {
   "cell_type": "code",
   "execution_count": 5,
   "metadata": {},
   "outputs": [],
   "source": [
    "# The grain pitch has a default value of 1, to which we can add a\n",
    "# randomness factor by raising the \"mul\" value of the Noise.\n",
    "pit = Noise(0, add=1) # white noise gen\n",
    "#pit.ctrl([SLMap(0, 1, \"lin\", \"mul\", 0)], title=\"Pitch Randomness\")"
   ]
  },
  {
   "cell_type": "code",
   "execution_count": 6,
   "metadata": {},
   "outputs": [],
   "source": [
    "# The grain position oscillates slowly between the beginning and\n",
    "# the end of the table. We add a little jitter to the position to\n",
    "# attenuate phasing artifacts when overlapping the grains.\n",
    "pososc = Sine(0.05).range(0, 16000)\n",
    "posrnd = Noise(mul=0.01, add=1)\n",
    "pos = pososc * posrnd"
   ]
  },
  {
   "cell_type": "code",
   "execution_count": 7,
   "metadata": {},
   "outputs": [],
   "source": [
    "# The grain panoramisation is completely random.\n",
    "pan = Noise(mul=0.5, add=0.5)\n"
   ]
  },
  {
   "cell_type": "code",
   "execution_count": 8,
   "metadata": {},
   "outputs": [],
   "source": [
    "cf = Sine(freq=0.07).range(75, 125)\n",
    "fcf = Choice(list(range(1, 40)), freq=150, mul=cf)\n",
    "\n",
    "grn = Particle2(table = snd,        # The table to read.\n",
    "                env = env,          # The grain envelope.\n",
    "                dens = 128,         # The density of grains per second.\n",
    "                # The next arguments are sampled at the beginning of the grain\n",
    "                # and hold their until the end of the grain.\n",
    "                pitch = pit,        # The pitch of the grain.\n",
    "                pos = pos,          # The position of the grain in the table.\n",
    "                dur = 0.2,          # The duration of the grain in seconds.\n",
    "                dev = 0.005,        # The maximum deviation of the start time,\n",
    "                                    # synchronous versus asynchronous granulation.\n",
    "                pan = pan,          # The pan value of the grain.\n",
    "                filterfreq = fcf,   # The filter frequency of the grain.\n",
    "                filterq = 20,       # The filter Q of the grain.\n",
    "                filtertype = 2,     # The filter type of the grain.\n",
    "                # End of sampled arguments.\n",
    "                chnls = 2,          # The output number of streams of the granulator.\n",
    "                mul = .2\n",
    "               )"
   ]
  },
  {
   "cell_type": "code",
   "execution_count": 9,
   "metadata": {},
   "outputs": [],
   "source": [
    "grn.ctrl()"
   ]
  },
  {
   "cell_type": "code",
   "execution_count": 10,
   "metadata": {},
   "outputs": [],
   "source": [
    "# Some grains can be surprisingly loud so we compress the output of the granulator.\n",
    "comp = Compress(grn, thresh=20, ratio=4, risetime=0.005, falltime=0.10, knee=0.5, mul=2).out()"
   ]
  },
  {
   "cell_type": "code",
   "execution_count": 13,
   "metadata": {},
   "outputs": [
    {
     "ename": "PyoArgumentTypeError",
     "evalue": "bad argument at position 1 to \"Particle\" (PyoTableObject expected, got <class 'pyo.lib.randoms.Randi'>)",
     "output_type": "error",
     "traceback": [
      "\u001b[1;31m---------------------------------------------------------------------------\u001b[0m",
      "\u001b[1;31mPyoArgumentTypeError\u001b[0m                      Traceback (most recent call last)",
      "\u001b[1;32m<ipython-input-13-42c70e8aa871>\u001b[0m in \u001b[0;36m<module>\u001b[1;34m\u001b[0m\n\u001b[0;32m     10\u001b[0m \u001b[0mdev\u001b[0m \u001b[1;33m=\u001b[0m \u001b[0mRandi\u001b[0m\u001b[1;33m(\u001b[0m\u001b[0mmin\u001b[0m\u001b[1;33m=\u001b[0m\u001b[1;36m0\u001b[0m\u001b[1;33m,\u001b[0m \u001b[0mmax\u001b[0m\u001b[1;33m=\u001b[0m\u001b[1;36m1\u001b[0m\u001b[1;33m,\u001b[0m \u001b[0mfreq\u001b[0m\u001b[1;33m=\u001b[0m\u001b[1;36m0.2\u001b[0m\u001b[1;33m)\u001b[0m\u001b[1;33m\u001b[0m\u001b[1;33m\u001b[0m\u001b[0m\n\u001b[0;32m     11\u001b[0m \u001b[0mpan\u001b[0m \u001b[1;33m=\u001b[0m \u001b[0mNoise\u001b[0m\u001b[1;33m(\u001b[0m\u001b[1;36m0.5\u001b[0m\u001b[1;33m,\u001b[0m \u001b[1;36m0.5\u001b[0m\u001b[1;33m)\u001b[0m\u001b[1;33m\u001b[0m\u001b[1;33m\u001b[0m\u001b[0m\n\u001b[1;32m---> 12\u001b[1;33m \u001b[0mgrn\u001b[0m \u001b[1;33m=\u001b[0m \u001b[0mParticle\u001b[0m\u001b[1;33m(\u001b[0m\u001b[0menv\u001b[0m\u001b[1;33m,\u001b[0m \u001b[0mdns\u001b[0m\u001b[1;33m,\u001b[0m \u001b[0mpit\u001b[0m\u001b[1;33m,\u001b[0m \u001b[0mpos\u001b[0m\u001b[1;33m,\u001b[0m \u001b[0mdur\u001b[0m\u001b[1;33m,\u001b[0m \u001b[0mdev\u001b[0m\u001b[1;33m,\u001b[0m \u001b[0mpan\u001b[0m\u001b[1;33m,\u001b[0m \u001b[0mchnls\u001b[0m\u001b[1;33m=\u001b[0m\u001b[1;36m2\u001b[0m\u001b[1;33m,\u001b[0m \u001b[0mmul\u001b[0m\u001b[1;33m=\u001b[0m\u001b[1;36m.2\u001b[0m\u001b[1;33m)\u001b[0m\u001b[1;33m.\u001b[0m\u001b[0mout\u001b[0m\u001b[1;33m(\u001b[0m\u001b[1;33m)\u001b[0m\u001b[1;33m\u001b[0m\u001b[1;33m\u001b[0m\u001b[0m\n\u001b[0m",
      "\u001b[1;32m~\\Miniconda3\\envs\\tf_gpu\\lib\\site-packages\\pyo\\lib\\tableprocess.py\u001b[0m in \u001b[0;36m__init__\u001b[1;34m(self, table, env, dens, pitch, pos, dur, dev, pan, chnls, mul, add)\u001b[0m\n\u001b[0;32m   3289\u001b[0m     \"\"\"\n\u001b[0;32m   3290\u001b[0m     \u001b[1;32mdef\u001b[0m \u001b[0m__init__\u001b[0m\u001b[1;33m(\u001b[0m\u001b[0mself\u001b[0m\u001b[1;33m,\u001b[0m \u001b[0mtable\u001b[0m\u001b[1;33m,\u001b[0m \u001b[0menv\u001b[0m\u001b[1;33m,\u001b[0m \u001b[0mdens\u001b[0m\u001b[1;33m=\u001b[0m\u001b[1;36m50\u001b[0m\u001b[1;33m,\u001b[0m \u001b[0mpitch\u001b[0m\u001b[1;33m=\u001b[0m\u001b[1;36m1\u001b[0m\u001b[1;33m,\u001b[0m \u001b[0mpos\u001b[0m\u001b[1;33m=\u001b[0m\u001b[1;36m0\u001b[0m\u001b[1;33m,\u001b[0m \u001b[0mdur\u001b[0m\u001b[1;33m=\u001b[0m\u001b[1;36m.1\u001b[0m\u001b[1;33m,\u001b[0m \u001b[0mdev\u001b[0m\u001b[1;33m=\u001b[0m\u001b[1;36m0.01\u001b[0m\u001b[1;33m,\u001b[0m \u001b[0mpan\u001b[0m\u001b[1;33m=\u001b[0m\u001b[1;36m0.5\u001b[0m\u001b[1;33m,\u001b[0m \u001b[0mchnls\u001b[0m\u001b[1;33m=\u001b[0m\u001b[1;36m1\u001b[0m\u001b[1;33m,\u001b[0m \u001b[0mmul\u001b[0m\u001b[1;33m=\u001b[0m\u001b[1;36m1\u001b[0m\u001b[1;33m,\u001b[0m \u001b[0madd\u001b[0m\u001b[1;33m=\u001b[0m\u001b[1;36m0\u001b[0m\u001b[1;33m)\u001b[0m\u001b[1;33m:\u001b[0m\u001b[1;33m\u001b[0m\u001b[1;33m\u001b[0m\u001b[0m\n\u001b[1;32m-> 3291\u001b[1;33m         \u001b[0mpyoArgsAssert\u001b[0m\u001b[1;33m(\u001b[0m\u001b[0mself\u001b[0m\u001b[1;33m,\u001b[0m \u001b[1;34m\"ttOOOOOOIOO\"\u001b[0m\u001b[1;33m,\u001b[0m \u001b[0mtable\u001b[0m\u001b[1;33m,\u001b[0m \u001b[0menv\u001b[0m\u001b[1;33m,\u001b[0m \u001b[0mdens\u001b[0m\u001b[1;33m,\u001b[0m \u001b[0mpitch\u001b[0m\u001b[1;33m,\u001b[0m \u001b[0mpos\u001b[0m\u001b[1;33m,\u001b[0m \u001b[0mdur\u001b[0m\u001b[1;33m,\u001b[0m \u001b[0mdev\u001b[0m\u001b[1;33m,\u001b[0m \u001b[0mpan\u001b[0m\u001b[1;33m,\u001b[0m \u001b[0mchnls\u001b[0m\u001b[1;33m,\u001b[0m \u001b[0mmul\u001b[0m\u001b[1;33m,\u001b[0m \u001b[0madd\u001b[0m\u001b[1;33m)\u001b[0m\u001b[1;33m\u001b[0m\u001b[1;33m\u001b[0m\u001b[0m\n\u001b[0m\u001b[0;32m   3292\u001b[0m         \u001b[0mPyoObject\u001b[0m\u001b[1;33m.\u001b[0m\u001b[0m__init__\u001b[0m\u001b[1;33m(\u001b[0m\u001b[0mself\u001b[0m\u001b[1;33m,\u001b[0m \u001b[0mmul\u001b[0m\u001b[1;33m,\u001b[0m \u001b[0madd\u001b[0m\u001b[1;33m)\u001b[0m\u001b[1;33m\u001b[0m\u001b[1;33m\u001b[0m\u001b[0m\n\u001b[0;32m   3293\u001b[0m         \u001b[0mself\u001b[0m\u001b[1;33m.\u001b[0m\u001b[0m_table\u001b[0m \u001b[1;33m=\u001b[0m \u001b[0mtable\u001b[0m\u001b[1;33m\u001b[0m\u001b[1;33m\u001b[0m\u001b[0m\n",
      "\u001b[1;32m~\\Miniconda3\\envs\\tf_gpu\\lib\\site-packages\\pyo\\lib\\_core.py\u001b[0m in \u001b[0;36mpyoArgsAssert\u001b[1;34m(obj, format, *args)\u001b[0m\n\u001b[0;32m    506\u001b[0m         \u001b[0mname\u001b[0m \u001b[1;33m=\u001b[0m \u001b[0mobj\u001b[0m\u001b[1;33m.\u001b[0m\u001b[0m__class__\u001b[0m\u001b[1;33m.\u001b[0m\u001b[0m__name__\u001b[0m\u001b[1;33m\u001b[0m\u001b[1;33m\u001b[0m\u001b[0m\n\u001b[0;32m    507\u001b[0m         \u001b[0merr\u001b[0m \u001b[1;33m=\u001b[0m \u001b[1;34m'bad argument at position %d to \"%s\" (%s expected, got %s)'\u001b[0m\u001b[1;33m\u001b[0m\u001b[1;33m\u001b[0m\u001b[0m\n\u001b[1;32m--> 508\u001b[1;33m         \u001b[1;32mraise\u001b[0m \u001b[0mPyoArgumentTypeError\u001b[0m\u001b[1;33m(\u001b[0m\u001b[0merr\u001b[0m \u001b[1;33m%\u001b[0m \u001b[1;33m(\u001b[0m\u001b[0mi\u001b[0m\u001b[1;33m,\u001b[0m \u001b[0mname\u001b[0m\u001b[1;33m,\u001b[0m \u001b[0mexpected\u001b[0m\u001b[1;33m,\u001b[0m \u001b[0margtype\u001b[0m\u001b[1;33m)\u001b[0m\u001b[1;33m)\u001b[0m\u001b[1;33m\u001b[0m\u001b[1;33m\u001b[0m\u001b[0m\n\u001b[0m\u001b[0;32m    509\u001b[0m \u001b[1;33m\u001b[0m\u001b[0m\n\u001b[0;32m    510\u001b[0m \u001b[1;32mdef\u001b[0m \u001b[0mconvertStringToSysEncoding\u001b[0m\u001b[1;33m(\u001b[0m\u001b[0mstrng\u001b[0m\u001b[1;33m)\u001b[0m\u001b[1;33m:\u001b[0m\u001b[1;33m\u001b[0m\u001b[1;33m\u001b[0m\u001b[0m\n",
      "\u001b[1;31mPyoArgumentTypeError\u001b[0m: bad argument at position 1 to \"Particle\" (PyoTableObject expected, got <class 'pyo.lib.randoms.Randi'>)"
     ]
    }
   ],
   "source": [
    "s = Server().boot()\n",
    "s.start()\n",
    "snd = SndTable('tree_of_voices.wav')\n",
    "#end = snd.getSize() - s.getSamplingRate() * 0.25\n",
    "env = HannTable()\n",
    "dns = Randi(min=5, max=100, freq=.1)\n",
    "pit = Randh(min=0.99, max=1.01, freq=100)\n",
    "pos = Randi(min=0, max=1, freq=0.25)\n",
    "dur = Randi(min=0.01, max=0.25, freq=0.15)\n",
    "dev = Randi(min=0, max=1, freq=0.2)\n",
    "pan = Noise(0.5, 0.5)\n",
    "grn = Particle(env, dns, pit, pos, dur, dev, pan, chnls=2, mul=.2).out()"
   ]
  },
  {
   "cell_type": "code",
   "execution_count": 4,
   "metadata": {},
   "outputs": [],
   "source": [
    "s.stop()"
   ]
  },
  {
   "cell_type": "code",
   "execution_count": 12,
   "metadata": {},
   "outputs": [],
   "source": [
    "print(grn.table)"
   ]
  },
  {
   "cell_type": "markdown",
   "metadata": {},
   "source": [
    "--> make an object that starts with pure sound, apply frequency, intensity time and density distributions --> get the frequency samples to put in the generator"
   ]
  },
  {
   "cell_type": "code",
   "execution_count": null,
   "metadata": {},
   "outputs": [],
   "source": []
  }
 ],
 "metadata": {
  "kernelspec": {
   "display_name": "Python 3",
   "language": "python",
   "name": "python3"
  },
  "language_info": {
   "codemirror_mode": {
    "name": "ipython",
    "version": 3
   },
   "file_extension": ".py",
   "mimetype": "text/x-python",
   "name": "python",
   "nbconvert_exporter": "python",
   "pygments_lexer": "ipython3",
   "version": "3.7.6"
  }
 },
 "nbformat": 4,
 "nbformat_minor": 4
}
